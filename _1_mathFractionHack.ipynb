{
 "cells": [
  {
   "cell_type": "markdown",
   "metadata": {},
   "source": [
    "https://colab.research.google.com/"
   ]
  },
  {
   "cell_type": "markdown",
   "metadata": {},
   "source": [
    "# Python Code Challenges \n",
    "\n",
    "Source: 101computing.net\n",
    "\n",
    "Level: Beginner\n",
    "\n",
    "Solutions: by Aziz KABA\n",
    "\n",
    "TimeStamp : 06/08/2022\n",
    "23:20"
   ]
  },
  {
   "cell_type": "markdown",
   "metadata": {},
   "source": [
    "## **Maths Fraction Hack Algorithm**"
   ]
  },
  {
   "cell_type": "markdown",
   "metadata": {},
   "source": [
    "In this challenge we are going to use an easy hack to quickly compare two fractions without having to calculate their decimal value.\n",
    "\n",
    "For instance, can you quickly tell which of the following two fractions is bigger?"
   ]
  },
  {
   "attachments": {
    "dc96036c-9840-4277-ab79-47f07715d080.png": {
     "image/png": "[encoded data removed]"
    }
   },
   "cell_type": "markdown",
   "metadata": {},
   "source": [
    "![resim.png](attachment:dc96036c-9840-4277-ab79-47f07715d080.png)"
   ]
  },
  {
   "cell_type": "markdown",
   "metadata": {},
   "source": [
    "## Fraction Hack: The Butterfly method!"
   ]
  },
  {
   "cell_type": "markdown",
   "metadata": {},
   "source": [
    "Here is our quick approach to compare two fractions. It is called the butterfly method and is based on performing a cross-multiplication as follows:"
   ]
  },
  {
   "attachments": {
    "3b21aa8d-cd80-4140-be27-ac0ae8f88cb8.png": {
     "image/png": "[encoded data removed]"
    }
   },
   "cell_type": "markdown",
   "metadata": {},
   "source": [
    "![resim.png](attachment:3b21aa8d-cd80-4140-be27-ac0ae8f88cb8.png)"
   ]
  },
  {
   "cell_type": "markdown",
   "metadata": {},
   "source": [
    " The butterfly method is used to calculate the cross-products of our two fractions. By comparing these cross-products we can then deduct how both fractions compare:"
   ]
  },
  {
   "attachments": {
    "4fb57cb5-063a-4f98-8261-df2a45e27d3c.png": {
     "image/png": "[encoded data removed]"
    }
   },
   "cell_type": "markdown",
   "metadata": {},
   "source": [
    "![resim.png](attachment:4fb57cb5-063a-4f98-8261-df2a45e27d3c.png)"
   ]
  },
  {
   "cell_type": "markdown",
   "metadata": {},
   "source": [
    "### Python Task\n",
    "\n",
    "Your task is to write a Python program that will:\n",
    "\n",
    "    Ask the user for to enter four values: the numerators and denominators of two fractions.\n",
    "    Use the butterfly method to calculate and compare the cross products of these two fractions.\n",
    "    Compare the cross products to decide which fraction is bigger and output a clear message on screen.\n",
    "    Calculate and output the decimal values of both fractions to help the user confirm the outcome of the Butterfly method.\n"
   ]
  },
  {
   "cell_type": "markdown",
   "metadata": {},
   "source": [
    "# **My Solution**"
   ]
  },
  {
   "cell_type": "markdown",
   "metadata": {},
   "source": [
    "**_Input Section_**"
   ]
  },
  {
   "cell_type": "code",
   "execution_count": 31,
   "metadata": {},
   "outputs": [
    {
     "name": "stdin",
     "output_type": "stream",
     "text": [
      "Please enter the numerator of the first fraction:  7\n",
      "Please enter the denominator of the first fraction:  10\n"
     ]
    },
    {
     "name": "stdout",
     "output_type": "stream",
     "text": [
      "First fraction is: 7/10\n"
     ]
    },
    {
     "name": "stdin",
     "output_type": "stream",
     "text": [
      "Please enter the numerator of the second fraction:  18\n",
      "Please enter the denominator of the second fraction:  25\n"
     ]
    },
    {
     "name": "stdout",
     "output_type": "stream",
     "text": [
      "Second fraction is: 18/25\n"
     ]
    }
   ],
   "source": [
    "# Take the fractions from the user\n",
    "\n",
    "# Request 1st fraction\n",
    "numFrac1 = int(input(\"Please enter the numerator of the first fraction: \"))\n",
    "denFrac1 = int(input(\"Please enter the denominator of the first fraction: \"))\n",
    "\n",
    "# Show 1st fraction\n",
    "print(\"First fraction is: \" + str(numFrac1) + \"/\" + str(denFrac1))\n",
    "\n",
    "# Request 2nd fraction\n",
    "numFrac2 = int(input(\"Please enter the numerator of the second fraction: \"))\n",
    "denFrac2 = int(input(\"Please enter the denominator of the second fraction: \"))\n",
    "\n",
    "# Show 2nd fraction\n",
    "print(\"Second fraction is: \" + str(numFrac2) + \"/\" + str(denFrac2))"
   ]
  },
  {
   "cell_type": "markdown",
   "metadata": {},
   "source": [
    "**_Butterfly Method_**"
   ]
  },
  {
   "cell_type": "code",
   "execution_count": 32,
   "metadata": {},
   "outputs": [
    {
     "name": "stdout",
     "output_type": "stream",
     "text": [
      "First fraction: 7/10 is smaller than second fraction: 18/25\n"
     ]
    }
   ],
   "source": [
    "# Create two temporary variables to calculate multiplications.\n",
    "\n",
    "'''\n",
    "Some variables are not necessary since they increases memory allocation.\n",
    "But on the other hand, calculation burden is increased. \n",
    "So, it is a trade - off.\n",
    "But, I like the way how code is read! So, I use variables to struct the code.\n",
    "''' \n",
    "\n",
    "tempFrac1 = numFrac1*denFrac2\n",
    "tempFrac2 = denFrac1*numFrac2\n",
    "\n",
    "# Define which fraction is bigger\n",
    "# Bonus: they can also be equal.\n",
    "\n",
    "# frac1Flag variable is a flag that holds which fraction is bigger\n",
    "# I use it for future reference to hold the info of which one is bigger\n",
    "# But, code is completely OK without it.\n",
    "\n",
    "# 0 = frac1 is smaller\n",
    "# 1 = frac1 is bigger\n",
    "# 2 = frac1 is equal\n",
    "\n",
    "# If two conditions exist, would choose Bool type flag.\n",
    "\n",
    "# Output the results and inform the user\n",
    "\n",
    "if tempFrac1 > tempFrac2:\n",
    "    frac1Flag = 1\n",
    "    print(\"First fraction: \" + str(numFrac1) + \"/\" + str(denFrac1) + \n",
    "          \" is bigger than\" +\n",
    "          \" second fraction: \" + str(numFrac2) + \"/\" + str(denFrac2))\n",
    "elif tempFrac2 > tempFrac1:\n",
    "    frac1Flag = 0\n",
    "    print(\"First fraction: \" + str(numFrac1) + \"/\" + str(denFrac1) + \n",
    "          \" is smaller than\" +\n",
    "          \" second fraction: \" + str(numFrac2) + \"/\" + str(denFrac2))\n",
    "else:\n",
    "    frac1Flag = 2\n",
    "    print(\"First fraction: \" + str(numFrac1) + \"/\" + str(denFrac1) + \n",
    "          \" is equal to\" +\n",
    "          \" second fraction: \" + str(numFrac2) + \"/\" + str(denFrac2))"
   ]
  },
  {
   "cell_type": "markdown",
   "metadata": {},
   "source": [
    "**_Show floating numbers to confirm_**"
   ]
  },
  {
   "cell_type": "code",
   "execution_count": 33,
   "metadata": {},
   "outputs": [
    {
     "name": "stdout",
     "output_type": "stream",
     "text": [
      "First fraction is : 0.7 second fraction is: 0.72\n"
     ]
    }
   ],
   "source": [
    "# Output the decimal values of fractions to the user\n",
    "# for confirmation of the Butterfly method\n",
    "\n",
    "print(\"First fraction is : \" + str(float(numFrac1/denFrac1)) + \n",
    "      \" second fraction is: \" + str(float(numFrac2/denFrac2)))"
   ]
  },
  {
   "cell_type": "markdown",
   "metadata": {},
   "source": [
    "**_Given Test Cases_**"
   ]
  },
  {
   "cell_type": "markdown",
   "metadata": {},
   "source": [
    "\n",
    "Test # |\tInput Values \t|Expected Output \t\n",
    "\n",
    "*1 | 7/10 and 5/8 \t      |7/10 > 5/8      \t \n",
    "Solution Output:\n",
    "First fraction: 7/10 is bigger than second fraction: 5/8\n",
    "\n",
    "First fraction is : 0.7 second fraction is: 0.625\n",
    "\n",
    "*2 | \t7/10 and 9/12 \t|7/10 < 9/12     \t\n",
    "Solution Output:\n",
    "First fraction: 7/10 is smaller than second fraction: 9/12\n",
    "\n",
    "First fraction is : 0.7 second fraction is: 0.75\n",
    "\n",
    "*3 | \t7/10 and 21/30 \t|7/10 = 21/30    \t\n",
    "Solution Output:\n",
    "First fraction: 7/10 is equal to second fraction: 21/30\n",
    "\n",
    "First fraction is : 0.7 second fraction is: 0.7\n",
    "\n",
    "*4 | \t7/10 and 18/25 \t|7/10 < 18/25    \t\n",
    "Solution Output:\n",
    "First fraction: 7/10 is smaller than second fraction: 18/25\n",
    "\n",
    "First fraction is : 0.7 second fraction is: 0.72"
   ]
  }
 ],
 "metadata": {
  "kernelspec": {
   "display_name": "Python 3",
   "language": "python",
   "name": "python3"
  },
  "language_info": {
   "codemirror_mode": {
    "name": "ipython",
    "version": 3
   },
   "file_extension": ".py",
   "mimetype": "text/x-python",
   "name": "python",
   "nbconvert_exporter": "python",
   "pygments_lexer": "ipython3",
   "version": "3.8.5"
  }
 },
 "nbformat": 4,
 "nbformat_minor": 4
}
